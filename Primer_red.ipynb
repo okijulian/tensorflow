{
 "cells": [
  {
   "cell_type": "code",
   "execution_count": 7,
   "source": [
    "import tensorflow as tf\n",
    "import numpy as np"
   ],
   "outputs": [],
   "metadata": {}
  },
  {
   "cell_type": "code",
   "execution_count": 8,
   "source": [
    "celcius = np.array([-40,-10,0,8,15,22,34],dtype=float)\n",
    "fahrenheit=np.array([-40,14,32,46,59,72,100], dtype=float)"
   ],
   "outputs": [],
   "metadata": {}
  },
  {
   "cell_type": "code",
   "execution_count": 9,
   "source": [
    "#capa=tf.keras.layers.Dense(units=1,input_shape=[1])\n",
    "#modelo=tf.keras.Sequential([capa])\n",
    "oculta1=tf.keras.layers.Dense(units=3,input_shape=[1])\n",
    "oculta2=tf.keras.layers.Dense(units=3)\n",
    "salida=tf.keras.layers.Dense(units=1)\n",
    "modelo=tf.keras.Sequential([oculta1,oculta2,salida])"
   ],
   "outputs": [],
   "metadata": {}
  },
  {
   "cell_type": "code",
   "execution_count": 10,
   "source": [
    "modelo.compile(\n",
    "    optimizer=tf.keras.optimizers.Adam(0.1),\n",
    "    loss='mean_squared_error'\n",
    ")"
   ],
   "outputs": [],
   "metadata": {}
  },
  {
   "cell_type": "code",
   "execution_count": 11,
   "source": [
    "print(\"comenzando entrenamiento\")\n",
    "historial = modelo.fit(celcius, fahrenheit, epochs=1000, verbose=False)\n",
    "print(\"termine de entrenar\")"
   ],
   "outputs": [
    {
     "output_type": "stream",
     "name": "stdout",
     "text": [
      "comenzando entrenamiento\n",
      "termine de entrenar\n"
     ]
    }
   ],
   "metadata": {}
  },
  {
   "cell_type": "code",
   "execution_count": 12,
   "source": [
    "import matplotlib.pyplot as plt\n",
    "plt.xlabel(\"# Epoca\")\n",
    "plt.ylabel(\"magnitud de perdida\")\n",
    "plt.plot(historial.history[\"loss\"])"
   ],
   "outputs": [
    {
     "output_type": "execute_result",
     "data": {
      "text/plain": [
       "[<matplotlib.lines.Line2D at 0x7f7d62b77520>]"
      ]
     },
     "metadata": {},
     "execution_count": 12
    },
    {
     "output_type": "display_data",
     "data": {
      "image/png": "[encoded data removed]",
      "text/plain": [
       "<Figure size 432x288 with 1 Axes>"
      ]
     },
     "metadata": {
      "needs_background": "light"
     }
    }
   ],
   "metadata": {}
  },
  {
   "cell_type": "code",
   "execution_count": 13,
   "source": [
    "print(\"hagamos la prediccion!\")\n",
    "resultado=modelo.predict([100.0])\n",
    "print('el resultado es'+ str(resultado)+'fahrenheit')"
   ],
   "outputs": [
    {
     "output_type": "stream",
     "name": "stdout",
     "text": [
      "hagamos la prediccion!\n",
      "el resultado es[[218.49144]]fahrenheit\n"
     ]
    }
   ],
   "metadata": {}
  },
  {
   "cell_type": "code",
   "execution_count": 14,
   "source": [
    "print(\"variables internas del modelo\")\n",
    "print(oculta1.get_weights())\n",
    "print(oculta2.get_weights())\n",
    "print(salida.get_weights())"
   ],
   "outputs": [
    {
     "output_type": "stream",
     "name": "stdout",
     "text": [
      "variables internas del modelo\n",
      "[array([[-0.37220296, -0.27871165, -0.10844777]], dtype=float32), array([-2.7232633, -2.678142 , -2.537894 ], dtype=float32)]\n",
      "[array([[-0.7169867 ,  0.7639739 , -0.8429118 ],\n",
      "       [ 0.4641682 ,  0.9755749 , -1.1471165 ],\n",
      "       [-0.85359055,  0.04391563, -0.9656096 ]], dtype=float32), array([ 2.8269596, -2.8121645,  2.814375 ], dtype=float32)]\n",
      "[array([[ 1.4968544 ],\n",
      "       [-0.94843817],\n",
      "       [ 1.3297776 ]], dtype=float32), array([2.7856603], dtype=float32)]\n"
     ]
    }
   ],
   "metadata": {}
  }
 ],
 "metadata": {
  "orig_nbformat": 4,
  "language_info": {
   "name": "python",
   "version": "3.8.10",
   "mimetype": "text/x-python",
   "codemirror_mode": {
    "name": "ipython",
    "version": 3
   },
   "pygments_lexer": "ipython3",
   "nbconvert_exporter": "python",
   "file_extension": ".py"
  },
  "kernelspec": {
   "name": "python3",
   "display_name": "Python 3.8.10 64-bit"
  },
  "interpreter": {
   "hash": "916dbcbb3f70747c44a77c7bcd40155683ae19c65e1c03b4aa3499c5328201f1"
  }
 },
 "nbformat": 4,
 "nbformat_minor": 2
}